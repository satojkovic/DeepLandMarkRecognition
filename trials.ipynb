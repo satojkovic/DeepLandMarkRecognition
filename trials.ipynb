{
 "cells": [
  {
   "cell_type": "markdown",
   "metadata": {},
   "source": [
    "## Load dataset"
   ]
  },
  {
   "cell_type": "code",
   "execution_count": null,
   "metadata": {
    "scrolled": true
   },
   "outputs": [],
   "source": [
    "import numpy as np\n",
    "import pandas as pd"
   ]
  },
  {
   "cell_type": "code",
   "execution_count": null,
   "metadata": {},
   "outputs": [],
   "source": [
    "import matplotlib.pyplot as plt\n",
    "%matplotlib inline"
   ]
  },
  {
   "cell_type": "code",
   "execution_count": null,
   "metadata": {
    "scrolled": true
   },
   "outputs": [],
   "source": [
    "train_data = pd.read_csv('google-landmarks-dataset/train.csv')\n",
    "test_data = pd.read_csv('google-landmarks-dataset/test.csv')"
   ]
  },
  {
   "cell_type": "code",
   "execution_count": null,
   "metadata": {
    "scrolled": true
   },
   "outputs": [],
   "source": [
    "train_data.head(5)"
   ]
  },
  {
   "cell_type": "markdown",
   "metadata": {},
   "source": [
    "## Sample the data"
   ]
  },
  {
   "cell_type": "code",
   "execution_count": null,
   "metadata": {},
   "outputs": [],
   "source": [
    "landmark_list = [str(x) for x in range(1000, 3001)]\n",
    "train_data_sample = train_data[train_data['landmark_id'].isin(landmark_list)]"
   ]
  },
  {
   "cell_type": "code",
   "execution_count": null,
   "metadata": {},
   "outputs": [],
   "source": [
    "print('sample train data:', len(train_data_sample))"
   ]
  },
  {
   "cell_type": "code",
   "execution_count": null,
   "metadata": {},
   "outputs": [],
   "source": [
    "colors = np.array(['#4285f4','#34a853','#fbbc05','#ea4335'])\n",
    "#Define the order in which to display the graph\n",
    "order = ['1-5','5-10','10-50','50-100','100-200','200-500','>=500']\n",
    "f, (ax1, ax2) = plt.subplots(1, 2,figsize=(15,5))\n",
    "\n",
    "def plot_distribution(data_f, data_k, axis):\n",
    "    x = data_f.landmark_id.value_counts().index\n",
    "    y = pd.DataFrame(data_f.landmark_id.value_counts())\n",
    "    \n",
    "    y['Number of images'] = np.where(y.landmark_id >= 500, '>=500', y['landmark_id'])\n",
    "    y['Number of images'] = np.where((y.landmark_id >= 200) & (y.landmark_id < 500), '200-500', y['Number of images'])\n",
    "    y['Number of images'] = np.where((y.landmark_id >= 100) & (y.landmark_id < 200), '100-200', y['Number of images'])\n",
    "    y['Number of images'] = np.where((y.landmark_id >= 50) & (y.landmark_id < 100), '50-100', y['Number of images'])\n",
    "    y['Number of images'] = np.where((y.landmark_id >= 10) & (y.landmark_id < 50), '10-50', y['Number of images'])\n",
    "    y['Number of images'] = np.where((y.landmark_id >= 5) & (y.landmark_id < 10), '5-10', y['Number of images'])\n",
    "    y['Number of images'] = np.where((y.landmark_id >= 1) & (y.landmark_id < 5), '1-5', y['Number of images'])\n",
    "\n",
    "    y['Number of images'].value_counts().loc[order].plot(kind = 'bar',color = colors,width = 0.8, ax=axis)\n",
    "    axis.set_xlabel('Number of images')\n",
    "    axis.set_ylabel('Number of classes')\n",
    "    axis.set_title(data_k)\n",
    "\n",
    "plot_distribution(train_data, 'Original', ax1)\n",
    "plot_distribution(train_data_sample, 'Sample', ax2)"
   ]
  }
 ],
 "metadata": {
  "kernelspec": {
   "display_name": "Python 3",
   "language": "python",
   "name": "python3"
  },
  "language_info": {
   "codemirror_mode": {
    "name": "ipython",
    "version": 3
   },
   "file_extension": ".py",
   "mimetype": "text/x-python",
   "name": "python",
   "nbconvert_exporter": "python",
   "pygments_lexer": "ipython3",
   "version": "3.6.5"
  }
 },
 "nbformat": 4,
 "nbformat_minor": 2
}
